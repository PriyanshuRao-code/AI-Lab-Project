{
 "cells": [
  {
   "cell_type": "code",
   "execution_count": 1,
   "id": "53ef50ce-1404-4a7a-8d01-b5db12ad0d5a",
   "metadata": {},
   "outputs": [],
   "source": [
    "import pandas as pd\n",
    "import numpy as np\n",
    "import matplotlib.pyplot as plt\n",
    "from scipy.stats import zscore\n",
    "from sklearn.preprocessing import MinMaxScaler\n",
    "from sklearn.preprocessing import StandardScaler\n",
    "from sklearn.preprocessing import LabelEncoder\n",
    "from sklearn.decomposition import PCA\n",
    "from datetime import datetime\n",
    "from sklearn.model_selection import train_test_split\n",
    "from sklearn.linear_model import LogisticRegression"
   ]
  },
  {
   "cell_type": "code",
   "execution_count": 2,
   "id": "c716588d-52cd-4c21-8783-def64e7aa442",
   "metadata": {},
   "outputs": [],
   "source": [
    "\n",
    "original_dataframe = pd.read_csv('24.csv')"
   ]
  },
  {
   "cell_type": "code",
   "execution_count": 3,
   "id": "227764ca-efb6-4661-94fd-3e0ba0cbf449",
   "metadata": {},
   "outputs": [],
   "source": [
    "\n",
    "def remove_outliers_iqr(df_orig):\n",
    "  df = df_orig.copy()\n",
    "\n",
    "  df_numeric = df.select_dtypes(include=['number']).select_dtypes(exclude=['bool'])\n",
    "  df_non_numeric = df.select_dtypes(exclude=['number'])\n",
    "\n",
    "  Q1 = df_numeric.quantile(0.25)\n",
    "  Q3 = df_numeric.quantile(0.75)\n",
    "  IQR = Q3 - Q1\n",
    "\n",
    "  lower_bound = Q1 - 1.5 * IQR\n",
    "  upper_bound = Q3 + 1.5 * IQR\n",
    "\n",
    "  # Removing outliers\n",
    "  df_iqr = df_numeric[~((df_numeric < lower_bound) | (df_numeric > upper_bound)).any(axis=1)]\n",
    "  df_cleaned = pd.concat([df_iqr, df_non_numeric.loc[df_iqr.index]], axis=1)\n",
    "\n",
    "  return df_cleaned"
   ]
  },
  {
   "cell_type": "code",
   "execution_count": 4,
   "id": "1d4467cd-6c26-450e-9a20-f13d29c301fa",
   "metadata": {},
   "outputs": [],
   "source": [
    "def remove_outliers_zscore(df_orig, z_score_threshold = 3):\n",
    "  df = df_orig.copy()\n",
    "\n",
    "  df_numeric = df.select_dtypes(include=['number']).select_dtypes(exclude=['bool'])\n",
    "  df_non_numeric = df.select_dtypes(exclude=['number'])\n",
    "\n",
    "  z_scores = df_numeric.apply(zscore)\n",
    "  df_z = df_numeric[(z_scores.abs() < z_score_threshold).all(axis=1)]  # Remove rows with Z-score >  z_score_threshold in any column\n",
    "  df_cleaned = pd.concat([df_z, df_non_numeric.loc[df_z.index]], axis=1)\n",
    "\n",
    "  return df_cleaned"
   ]
  },
  {
   "cell_type": "code",
   "execution_count": 5,
   "id": "297ba978-cb39-4ad3-8213-56c3ca229955",
   "metadata": {},
   "outputs": [],
   "source": [
    "\n",
    "def remove_highly_correlated(df_cleaned_orig, target_col=\"Hazardous\", high_corr_threshold = 0.99):\n",
    "  df_cleaned = df_cleaned_orig.copy()\n",
    "\n",
    "  df_numeric = df_cleaned.select_dtypes(include=['number']).select_dtypes(exclude=['bool'])\n",
    "\n",
    "  target_series = None\n",
    "  if target_col in df_numeric.columns: # High correaltion with target column should not be dropped\n",
    "    target_series = df_cleaned[target_col]\n",
    "    df_numeric = df_numeric.drop(columns=[target_col])\n",
    "\n",
    "  high_corr_pairs = set()\n",
    "  correlation_matrix = df_numeric.corr()\n",
    "\n",
    "  for i in range(len(correlation_matrix.columns)):\n",
    "    for j in range(i): # Lower triangular matrix\n",
    "      if abs(correlation_matrix.iloc[i, j]) >= high_corr_threshold:\n",
    "        col1 = correlation_matrix.columns[i]\n",
    "        col2 = correlation_matrix.columns[j]\n",
    "        high_corr_pairs.add((col1, col2))\n",
    "\n",
    "  columns_to_drop = {col2 for col1, col2 in high_corr_pairs}\n",
    "  df_reduced = df_cleaned.drop(columns=columns_to_drop)\n",
    "\n",
    "  if target_series is not None: # If present in df_numeric and is removed, has to be added again\n",
    "    df_reduced[target_col] = target_series\n",
    "\n",
    "  return df_reduced"
   ]
  },
  {
   "cell_type": "code",
   "execution_count": 6,
   "id": "0a77e54e-37b2-4a90-a1cf-b778a01b1998",
   "metadata": {},
   "outputs": [],
   "source": [
    "\n",
    "def normalize_minmax(df_train, df_test, df_valid):\n",
    "  scaler = MinMaxScaler()\n",
    "\n",
    "  df_train_numeric = df_train.select_dtypes(include=['number']).select_dtypes(exclude=['bool'])\n",
    "  df_test_numeric = df_test.select_dtypes(include=['number']).select_dtypes(exclude=['bool'])\n",
    "  df_valid_numeric = df_valid.select_dtypes(include=['number']).select_dtypes(exclude=['bool'])\n",
    "\n",
    "  df_train[df_train_numeric.columns] = scaler.fit_transform(df_train_numeric)\n",
    "  df_test[df_test_numeric.columns] = scaler.transform(df_test_numeric)\n",
    "  df_valid[df_valid_numeric.columns] = scaler.transform(df_valid_numeric)\n",
    "\n",
    "  return df_train, df_test, df_valid"
   ]
  },
  {
   "cell_type": "code",
   "execution_count": 7,
   "id": "3ac89bc6-b98e-4bbd-96be-3d56c69ff602",
   "metadata": {},
   "outputs": [],
   "source": [
    "\n",
    "def standardize_data(df_train, df_test, df_valid):\n",
    "  scaler = StandardScaler()\n",
    "\n",
    "  df_train_numeric = df_train.select_dtypes(include=['number']).select_dtypes(exclude=['bool'])\n",
    "  df_test_numeric = df_test.select_dtypes(include=['number']).select_dtypes(exclude=['bool'])\n",
    "  df_valid_numeric = df_valid.select_dtypes(include=['number']).select_dtypes(exclude=['bool'])\n",
    "\n",
    "  df_train[df_train_numeric.columns] = scaler.fit_transform(df_train_numeric)\n",
    "  df_test[df_test_numeric.columns] = scaler.transform(df_test_numeric)\n",
    "  df_valid[df_valid_numeric.columns] = scaler.transform(df_valid_numeric)\n",
    "\n",
    "  return df_train, df_test, df_valid"
   ]
  },
  {
   "cell_type": "code",
   "execution_count": 8,
   "id": "dde437e5-243d-4364-b3e7-56b0c31300bc",
   "metadata": {},
   "outputs": [],
   "source": [
    "\n",
    "def label_encode_categorical(df_normalized):\n",
    "  df_normalized_copy = df_normalized.copy()\n",
    "\n",
    "  categorical_cols = df_normalized_copy.select_dtypes(include=['object']).columns\n",
    "  label_encoder = LabelEncoder()\n",
    "\n",
    "  for col in categorical_cols:\n",
    "    df_normalized_copy[col] = label_encoder.fit_transform(df_normalized_copy[col])\n",
    "\n",
    "  return df_normalized_copy"
   ]
  },
  {
   "cell_type": "code",
   "execution_count": 9,
   "id": "c1c702a7-e37e-4f3c-8a0e-fe8e74ef8176",
   "metadata": {},
   "outputs": [],
   "source": [
    "\n",
    "def select_high_corr_features(df_train, df_test, df_valid, target_col=\"Hazardous\", top_n=3):\n",
    "  df_train_numeric = df_train.select_dtypes(include=['number']).select_dtypes(exclude=['bool'])\n",
    "\n",
    "  # If target column is not in numerical form\n",
    "  if target_col not in df_train_numeric.columns:\n",
    "      raise ValueError(f\"Target column '{target_col}' must be numeric and present in the dataset.\")\n",
    "\n",
    "  corr_values = df_train_numeric.corr()[target_col].abs().sort_values(ascending=False)\n",
    "  selected_features = corr_values.drop(index=target_col).head(top_n).index.tolist()\n",
    "\n",
    "  # print(f\"Selected features based on correlation with '{target_col}': {selected_features}\")\n",
    "\n",
    "  return df_train[selected_features], df_test[selected_features], df_valid[selected_features]"
   ]
  },
  {
   "cell_type": "code",
   "execution_count": 10,
   "id": "50730ee3-aba3-4101-a35e-d92c68eb72ad",
   "metadata": {},
   "outputs": [],
   "source": [
    "\n",
    "def perform_pca(df_train, df_test, df_valid, n_components=3):\n",
    "  pca = PCA(n_components=n_components)\n",
    "\n",
    "  df_train_numeric = df_train.select_dtypes(include=['number'])\n",
    "  df_test_numeric = df_test.select_dtypes(include=['number'])\n",
    "  df_valid_numeric = df_valid.select_dtypes(include=['number'])\n",
    "\n",
    "  pca.fit(df_train_numeric)\n",
    "  df_train_pca = pca.transform(df_train_numeric)\n",
    "  df_test_pca = pca.transform(df_test_numeric)\n",
    "  df_valid_pca = pca.transform(df_valid_numeric)\n",
    "\n",
    "  pca_columns = [f'PC{i+1}' for i in range(n_components)]\n",
    "  df_train_pca = pd.DataFrame(df_train_pca, columns=pca_columns)\n",
    "  df_test_pca = pd.DataFrame(df_test_pca, columns=pca_columns)\n",
    "  df_valid_pca = pd.DataFrame(df_valid_pca, columns=pca_columns)\n",
    "\n",
    "  return df_train_pca, df_test_pca, df_valid_pca"
   ]
  },
  {
   "cell_type": "code",
   "execution_count": 11,
   "id": "5f127796-8ee7-453b-933c-3b7872ca5c93",
   "metadata": {},
   "outputs": [],
   "source": [
    "def numeric_conversion(df_orig, one_hot_encode_month=False):\n",
    "  df = df_orig.copy()\n",
    "\n",
    "  # Dropping 'Equinox' and 'Orbiting Body'\n",
    "  df.drop(columns=['Equinox', 'Orbiting Body'], errors='ignore', inplace=True)\n",
    "\n",
    "  # Converting 'Close Approach Date' to datetime\n",
    "  df['Close Approach Date'] = pd.to_datetime(df['Close Approach Date'])\n",
    "  df['Close Approach Year'] = df['Close Approach Date'].dt.year\n",
    "  df['Close Approach Month'] = df['Close Approach Date'].dt.month\n",
    "\n",
    "\n",
    "\n",
    "  # Converting 'Epoch Date Close Approach' to datetime\n",
    "  df['Converted Date'] = df['Epoch Date Close Approach'].apply(\n",
    "    lambda x: datetime.utcfromtimestamp(x / 1000) if pd.notnull(x) else None\n",
    "  )\n",
    "\n",
    "  df['Epoch Close Approach Year'] = df['Converted Date'].dt.year\n",
    "  df['Epoch Close Approach Month'] = df['Converted Date'].dt.month\n",
    "\n",
    "\n",
    "\n",
    "  # Encoding 'Hazardous' column\n",
    "  df['Hazardous'] = df['Hazardous'].astype(int)\n",
    "\n",
    "  # One-Hot Encoding for months (if needed)\n",
    "  if one_hot_encode_month:\n",
    "    df = pd.get_dummies(df, columns=['Close Approach Month', 'Epoch Close Approach Month'], prefix=['Close Approach Month no.', 'Epoch Close Approach Month no.'], dtype=int)\n",
    "\n",
    "  df = df.drop(columns=[\"Converted Date\"])\n",
    "  return df"
   ]
  },
  {
   "cell_type": "code",
   "execution_count": 12,
   "id": "f242f3a2-b640-4f84-8cf6-4551b70be879",
   "metadata": {},
   "outputs": [],
   "source": [
    "\n",
    "def data_preprocessing(df):\n",
    "  no_outliers = remove_outliers_zscore(df)\n",
    "  no_highly_correlated = remove_highly_correlated(no_outliers)\n",
    "  encoded = numeric_conversion(no_highly_correlated)\n",
    "  df_train, df_temp = train_test_split(encoded, test_size=0.4, random_state=42)\n",
    "  df_valid, df_test = train_test_split(df_temp, test_size=0.5, random_state=42)\n",
    "  normal_train, normal_test, normal_valid = normalize_minmax(df_train, df_test, df_valid)\n",
    "  normal_train.reset_index(drop=True, inplace=True)\n",
    "  normal_valid.reset_index(drop=True, inplace=True)\n",
    "  normal_test.reset_index(drop=True, inplace=True)\n",
    "  return normal_train, normal_valid, normal_test"
   ]
  },
  {
   "cell_type": "code",
   "execution_count": 13,
   "id": "b70c839d-84d1-4860-9d93-adda5e100914",
   "metadata": {},
   "outputs": [
    {
     "name": "stderr",
     "output_type": "stream",
     "text": [
      "C:\\Users\\lohit\\AppData\\Local\\Temp\\ipykernel_31932\\3347725585.py:16: DeprecationWarning: datetime.datetime.utcfromtimestamp() is deprecated and scheduled for removal in a future version. Use timezone-aware objects to represent datetimes in UTC: datetime.datetime.fromtimestamp(timestamp, datetime.UTC).\n",
      "  lambda x: datetime.utcfromtimestamp(x / 1000) if pd.notnull(x) else None\n"
     ]
    }
   ],
   "source": [
    "normal_train, normal_valid, normal_test = data_preprocessing(original_dataframe)"
   ]
  },
  {
   "cell_type": "code",
   "execution_count": 14,
   "id": "30665746-0a2e-4e2e-b787-d4fb0ff90f7e",
   "metadata": {},
   "outputs": [],
   "source": [
    "target_column = \"Hazardous\"\n"
   ]
  },
  {
   "cell_type": "code",
   "execution_count": 15,
   "id": "8e0e7f15-dfef-4fce-bcfa-3672241097c1",
   "metadata": {},
   "outputs": [],
   "source": [
    "\n",
    "X_train = normal_train.drop(columns=[target_column])\n",
    "y_train = normal_train[target_column]"
   ]
  },
  {
   "cell_type": "code",
   "execution_count": 16,
   "id": "9e938c2c-e675-402b-a538-755763a08ab4",
   "metadata": {},
   "outputs": [],
   "source": [
    "\n",
    "X_valid = normal_valid.drop(columns=[target_column])\n",
    "y_valid = normal_valid[target_column]"
   ]
  },
  {
   "cell_type": "code",
   "execution_count": 17,
   "id": "9fbc31a0-dd1f-4e7a-bb43-2f76f69b6a56",
   "metadata": {},
   "outputs": [],
   "source": [
    "X_test = normal_test.drop(columns=[target_column])\n",
    "y_test = normal_test[target_column]"
   ]
  },
  {
   "cell_type": "code",
   "execution_count": 18,
   "id": "45244cb4-6777-4b86-9768-ad3b772af028",
   "metadata": {},
   "outputs": [],
   "source": [
    "\n",
    "X_train[\"Close Approach Date\"] = X_train[\"Close Approach Date\"].astype(\"int64\") // 10**9  # Convert to seconds\n",
    "X_valid[\"Close Approach Date\"] = X_valid[\"Close Approach Date\"].astype(\"int64\") // 10**9\n",
    "X_test[\"Close Approach Date\"] = X_test[\"Close Approach Date\"].astype(\"int64\") // 10**9"
   ]
  },
  {
   "cell_type": "code",
   "execution_count": 19,
   "id": "acf420b9-6141-4e3b-ad8d-30b0b825b68b",
   "metadata": {},
   "outputs": [],
   "source": [
    "\n",
    "X_train[\"Orbit Determination Date\"] = pd.to_datetime(X_train[\"Orbit Determination Date\"]).astype(\"int64\") // 10**9\n",
    "X_valid[\"Orbit Determination Date\"] = pd.to_datetime(X_valid[\"Orbit Determination Date\"]).astype(\"int64\") // 10**9\n",
    "X_test[\"Orbit Determination Date\"] = pd.to_datetime(X_test[\"Orbit Determination Date\"]).astype(\"int64\") // 10**9"
   ]
  },
  {
   "cell_type": "code",
   "execution_count": null,
   "id": "a3ec3220-7402-44bf-b8c9-f7ef769d4e92",
   "metadata": {},
   "outputs": [],
   "source": [
    "from sklearn.svm import SVC\n",
    "linear_svm = SVC(kernel='linear', C=1.0) # You can adjust the C parameter here\n",
    "linear_svm.fit(X_train, y_train)\n",
    "y_test_pred = linear_svm.predict(X_test)\n",
    "y_val_pred = linear_svm.predict(X_val)\n",
    "\n",
    "accuracy = accuracy_score(y_test, y_test_pred)\n",
    "precision = precision_score(y_test, y_test_pred)\n",
    "recall = recall_score(y_test, y_test_pred)\n",
    "f1 = f1_score(y_test, y_test_pred)\n",
    "conf_matrix = confusion_matrix(y_test, y_test_pred)\n",
    "\n",
    "print(f\"Test Data Metrics:\")\n",
    "print(f\"Confusion Matrix:\\n{conf_matrix}\")\n",
    "print(f\"Accuracy: {accuracy:.4f}\")\n",
    "print(f\"Precision: {precision:.4f}\")\n",
    "print(f\"Recall: {recall:.4f}\")\n",
    "print(f\"F1-Score: {f1:.4f}\")\n",
    "print(f\"\\n\")\n",
    "#For val\n",
    "accuracy = accuracy_score(y_val, y_val_pred)\n",
    "precision = precision_score(y_val, y_val_pred)\n",
    "recall = recall_score(y_val, y_val_pred)\n",
    "f1 = f1_score(y_val, y_val_pred)\n",
    "conf_matrix = confusion_matrix(y_val, y_val_pred)\n",
    "\n",
    "print(f\"Validation Data Metrics:\")\n",
    "print(f\"Confusion Matrix:\\n{conf_matrix}\")\n",
    "print(f\"Accuracy: {accuracy:.4f}\")\n",
    "print(f\"Precision: {precision:.4f}\")\n",
    "print(f\"Recall: {recall:.4f}\")\n",
    "print(f\"F1-Score: {f1:.4f}\")"
   ]
  },
  {
   "cell_type": "code",
   "execution_count": null,
   "id": "928c9e57-ddbb-4c2d-bf23-13685b3caa7d",
   "metadata": {},
   "outputs": [],
   "source": [
    "rbf_svm = SVC(kernel='rbf', C=1.0, gamma='scale')\n",
    "rbf_svm.fit(X_train, y_train)\n",
    "y_test_pred = rbf_svm.predict(X_test)\n",
    "y_val_pred = rbf_svm.predict(X_val)\n",
    "\n",
    "\n",
    "accuracy = accuracy_score(y_test, y_test_pred)\n",
    "precision = precision_score(y_test, y_test_pred)\n",
    "recall = recall_score(y_test, y_test_pred)\n",
    "f1 = f1_score(y_test, y_test_pred)\n",
    "conf_matrix = confusion_matrix(y_test, y_test_pred)\n",
    "\n",
    "print(f\"Test Data Metrics:\")\n",
    "print(f\"Confusion Matrix:\\n{conf_matrix}\")\n",
    "print(f\"Accuracy: {accuracy:.4f}\")\n",
    "print(f\"Precision: {precision:.4f}\")\n",
    "print(f\"Recall: {recall:.4f}\")\n",
    "print(f\"F1-Score: {f1:.4f}\")\n",
    "print(f\"\\n\")\n",
    "#For val\n",
    "accuracy = accuracy_score(y_val, y_val_pred)\n",
    "precision = precision_score(y_val, y_val_pred)\n",
    "recall = recall_score(y_val, y_val_pred)\n",
    "f1 = f1_score(y_val, y_val_pred)\n",
    "conf_matrix = confusion_matrix(y_val, y_val_pred)\n",
    "\n",
    "print(f\"Validation Data Metrics:\")\n",
    "print(f\"Confusion Matrix:\\n{conf_matrix}\")\n",
    "print(f\"Accuracy: {accuracy:.4f}\")\n",
    "print(f\"Precision: {precision:.4f}\")\n",
    "print(f\"Recall: {recall:.4f}\")\n",
    "print(f\"F1-Score: {f1:.4f}\")"
   ]
  },
  {
   "cell_type": "code",
   "execution_count": null,
   "id": "8180d0c2-3558-4ffc-b421-ea1d41352da2",
   "metadata": {},
   "outputs": [],
   "source": [
    "poly_svm = SVC(kernel='poly', degree=3, C=1.0, gamma='scale')\n",
    "poly_svm.fit(X_train, y_train)\n",
    "y_test_pred = poly_svm.predict(X_test)\n",
    "y_val_pred = poly_svm.predict(X_val)\n",
    "\n",
    "accuracy = accuracy_score(y_test, y_test_pred)\n",
    "precision = precision_score(y_test, y_test_pred)\n",
    "recall = recall_score(y_test, y_test_pred)\n",
    "f1 = f1_score(y_test, y_test_pred)\n",
    "conf_matrix = confusion_matrix(y_test, y_test_pred)\n",
    "\n",
    "print(f\"Test Data Metrics:\")\n",
    "print(f\"Confusion Matrix:\\n{conf_matrix}\")\n",
    "print(f\"Accuracy: {accuracy:.4f}\")\n",
    "print(f\"Precision: {precision:.4f}\")\n",
    "print(f\"Recall: {recall:.4f}\")\n",
    "print(f\"F1-Score: {f1:.4f}\")\n",
    "print(f\"\\n\")\n",
    "#For val\n",
    "accuracy = accuracy_score(y_val, y_val_pred)\n",
    "precision = precision_score(y_val, y_val_pred)\n",
    "recall = recall_score(y_val, y_val_pred)\n",
    "f1 = f1_score(y_val, y_val_pred)\n",
    "conf_matrix = confusion_matrix(y_val, y_val_pred)\n",
    "\n",
    "print(f\"Validation Data Metrics:\")\n",
    "print(f\"Confusion Matrix:\\n{conf_matrix}\")\n",
    "print(f\"Accuracy: {accuracy:.4f}\")\n",
    "print(f\"Precision: {precision:.4f}\")\n",
    "print(f\"Recall: {recall:.4f}\")\n",
    "print(f\"F1-Score: {f1:.4f}\")"
   ]
  },
  {
   "cell_type": "code",
   "execution_count": null,
   "id": "79dfb385-c629-4857-99ec-215b607a4aa8",
   "metadata": {},
   "outputs": [],
   "source": []
  }
 ],
 "metadata": {
  "kernelspec": {
   "display_name": "Python 3 (ipykernel)",
   "language": "python",
   "name": "python3"
  },
  "language_info": {
   "codemirror_mode": {
    "name": "ipython",
    "version": 3
   },
   "file_extension": ".py",
   "mimetype": "text/x-python",
   "name": "python",
   "nbconvert_exporter": "python",
   "pygments_lexer": "ipython3",
   "version": "3.13.2"
  }
 },
 "nbformat": 4,
 "nbformat_minor": 5
}
