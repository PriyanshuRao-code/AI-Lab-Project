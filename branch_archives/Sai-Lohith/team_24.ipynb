{
  "nbformat": 4,
  "nbformat_minor": 0,
  "metadata": {
    "colab": {
      "provenance": [],
      "authorship_tag": "ABX9TyNuPZvmnekCKXxzp6V8ttX3",
      "include_colab_link": true
    },
    "kernelspec": {
      "name": "python3",
      "display_name": "Python 3"
    },
    "language_info": {
      "name": "python"
    }
  },
  "cells": [
    {
      "cell_type": "markdown",
      "metadata": {
        "id": "view-in-github",
        "colab_type": "text"
      },
      "source": [
        "<a href=\"https://colab.research.google.com/github/PriyanshuRao-code/AI-Lab-Project/blob/main/team_24.ipynb\" target=\"_parent\"><img src=\"https://colab.research.google.com/assets/colab-badge.svg\" alt=\"Open In Colab\"/></a>"
      ]
    },
    {
      "cell_type": "code",
      "execution_count": 5,
      "metadata": {
        "id": "2jaX1Roaq8ki",
        "outputId": "1106b364-b234-4a01-e540-a64540b3a0a1",
        "colab": {
          "base_uri": "https://localhost:8080/"
        }
      },
      "outputs": [
        {
          "output_type": "stream",
          "name": "stdout",
          "text": [
            "Repository already exists at: /content/AI-Lab-Project\n",
            "Repository is ready to use at: /content/AI-Lab-Project\n"
          ]
        }
      ],
      "source": [
        "# Don't do anything here. It's just a setup.\n",
        "import os\n",
        "import sys\n",
        "\n",
        "repo_name = \"AI-Lab-Project\"\n",
        "repo_url = \"https://github.com/PriyanshuRao-code/AI-Lab-Project.git\"\n",
        "repo_path = f\"/content/{repo_name}\"\n",
        "\n",
        "if os.path.exists(repo_path):\n",
        "    print(\"Repository already exists at:\", repo_path)\n",
        "else:\n",
        "    print(\"🚀 Cloning the repository...\")\n",
        "    os.system(f\"git clone {repo_url}\")\n",
        "\n",
        "os.chdir(repo_path)\n",
        "sys.path.append(repo_path)\n",
        "\n",
        "print(\"Repository is ready to use at:\", repo_path)"
      ]
    },
    {
      "cell_type": "code",
      "source": [
        "# Using supporting files (now as .ipynb and later .py)\n",
        "\n",
        "%run team_24_data_preprocessing.ipynb\n",
        "%run team_24_supervised_learning.ipynb\n",
        "\n",
        "# from team_24_data_preprocessing import *\n",
        "# from team_24_supervised_learning import *"
      ],
      "metadata": {
        "id": "hmIPAdzqBMfU",
        "outputId": "0a7a634b-90a1-498d-b4a6-cb3ceae43b1a",
        "colab": {
          "base_uri": "https://localhost:8080/"
        }
      },
      "execution_count": 6,
      "outputs": [
        {
          "output_type": "stream",
          "name": "stdout",
          "text": [
            "Repository already exists at: /content/AI-Lab-Project\n",
            "Repository is ready to use at: /content/AI-Lab-Project\n",
            "Repository already exists at: /content/AI-Lab-Project\n",
            "Repository is ready to use at: /content/AI-Lab-Project\n"
          ]
        }
      ]
    },
    {
      "cell_type": "code",
      "source": [
        "# Start coding from here"
      ],
      "metadata": {
        "id": "dh7ZoSINA94q"
      },
      "execution_count": 7,
      "outputs": []
    },
    {
      "cell_type": "code",
      "source": [],
      "metadata": {
        "id": "kTCmiuPTD2CV"
      },
      "execution_count": null,
      "outputs": []
    }
  ]
}